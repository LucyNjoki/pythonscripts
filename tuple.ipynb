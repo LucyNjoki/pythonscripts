{
 "cells": [
  {
   "cell_type": "markdown",
   "metadata": {},
   "source": [
    "Topic: **Tuple**\n",
    "\n",
    "Date: July 24, 2019\n",
    "\n",
    "Author: Lucy Njoki\n",
    "\n",
    "Tuples are like list but their contents can be changed.\n",
    "\n",
    "They are enclosed in ()"
   ]
  },
  {
   "cell_type": "code",
   "execution_count": 1,
   "metadata": {},
   "outputs": [
    {
     "name": "stdout",
     "output_type": "stream",
     "text": [
      "empty_tuple ()\n"
     ]
    }
   ],
   "source": [
    "#empty tuple\n",
    "empty_tuple = ()\n",
    "\n",
    "print(\"empty_tuple\", empty_tuple)"
   ]
  },
  {
   "cell_type": "code",
   "execution_count": 7,
   "metadata": {},
   "outputs": [
    {
     "name": "stdout",
     "output_type": "stream",
     "text": [
      "mixed tuple: ('Kenya', 'Ethiopia', 2008, 23, 45.98)\n"
     ]
    }
   ],
   "source": [
    "#tuple with mixed datatypes\n",
    "mixed_tuple = \"Kenya\", \"Ethiopia\", 2008, 23, 45.98\n",
    "print(\"mixed tuple:\", mixed_tuple)"
   ]
  },
  {
   "cell_type": "code",
   "execution_count": 8,
   "metadata": {},
   "outputs": [
    {
     "name": "stdout",
     "output_type": "stream",
     "text": [
      "Nested tuple:  ('Senegal', 'Uganda', [2, 5, 7], (23, 46, 0))\n"
     ]
    }
   ],
   "source": [
    "#nested tuple\n",
    "nested_tuple = (\"Senegal\", \"Uganda\", [2,5,7], (23,46,0))\n",
    "print(\"Nested tuple: \", nested_tuple)"
   ]
  },
  {
   "cell_type": "code",
   "execution_count": 9,
   "metadata": {},
   "outputs": [
    {
     "name": "stdout",
     "output_type": "stream",
     "text": [
      "New tuple is : ('Mexico', 'Botswana', 34.5, 26.0)\n"
     ]
    }
   ],
   "source": [
    "#create without brackets\n",
    "wiw_tuple = \"Mexico\", \"Botswana\", 34.5,26.0\n",
    "print(\"New tuple is :\", wiw_tuple)"
   ]
  },
  {
   "cell_type": "code",
   "execution_count": 15,
   "metadata": {},
   "outputs": [
    {
     "name": "stdout",
     "output_type": "stream",
     "text": [
      "Wiw country: Republic of Kenya\n"
     ]
    }
   ],
   "source": [
    "#tuple unpacking\n",
    "country = \"Republic of Kenya\"\n",
    "print(\"Wiw country:\", country)"
   ]
  },
  {
   "cell_type": "code",
   "execution_count": 11,
   "metadata": {},
   "outputs": [
    {
     "name": "stdout",
     "output_type": "stream",
     "text": [
      "Wiw temp: ('Mexico', 'Botswana', 34.5, 26.0)\n"
     ]
    }
   ],
   "source": [
    "temp = wiw_tuple\n",
    "print(\"Wiw temp:\", temp)"
   ]
  },
  {
   "cell_type": "code",
   "execution_count": 14,
   "metadata": {},
   "outputs": [
    {
     "name": "stdout",
     "output_type": "stream",
     "text": [
      "Wiw year: 2009\n"
     ]
    }
   ],
   "source": [
    "year = 2009\n",
    "print(\"Wiw year:\", year)"
   ]
  }
 ],
 "metadata": {
  "kernelspec": {
   "display_name": "Python 3",
   "language": "python",
   "name": "python3"
  },
  "language_info": {
   "codemirror_mode": {
    "name": "ipython",
    "version": 3
   },
   "file_extension": ".py",
   "mimetype": "text/x-python",
   "name": "python",
   "nbconvert_exporter": "python",
   "pygments_lexer": "ipython3",
   "version": "3.7.3"
  }
 },
 "nbformat": 4,
 "nbformat_minor": 2
}
