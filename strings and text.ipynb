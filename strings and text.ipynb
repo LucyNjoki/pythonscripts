{
 "cells": [
  {
   "cell_type": "code",
   "execution_count": 1,
   "metadata": {},
   "outputs": [],
   "source": [
    "#strings and text\n",
    "#put the formatted variables in the string, and then a % (percent) character, followed by the variable.\n",
    "#%r is used for debugging since it displays raw data of the variable.\n",
    "#%s and %d are used for displaying strings and numeric values respectively to users."
   ]
  },
  {
   "cell_type": "code",
   "execution_count": 2,
   "metadata": {},
   "outputs": [],
   "source": [
    "#inputting data as strings\n",
    "x = \"There are %d types of people.\" % 10\n",
    "binary = \"binary\"\n",
    "do_not =  \"don't\"\n",
    "y = \"Those who know %s and those who know %s.\" % (binary,do_not)"
   ]
  },
  {
   "cell_type": "code",
   "execution_count": 3,
   "metadata": {},
   "outputs": [
    {
     "name": "stdout",
     "output_type": "stream",
     "text": [
      "There are 10 types of people.\n"
     ]
    }
   ],
   "source": [
    "#printing output x\n",
    "print (x)"
   ]
  },
  {
   "cell_type": "code",
   "execution_count": 4,
   "metadata": {},
   "outputs": [
    {
     "name": "stdout",
     "output_type": "stream",
     "text": [
      "Those who know binary and those who know don't.\n"
     ]
    }
   ],
   "source": [
    "#printng output y\n",
    "print (y)"
   ]
  },
  {
   "cell_type": "code",
   "execution_count": 5,
   "metadata": {},
   "outputs": [
    {
     "name": "stdout",
     "output_type": "stream",
     "text": [
      "I said: 'There are 10 types of people.'.\n"
     ]
    }
   ],
   "source": [
    "#printing out x\n",
    "print (\"I said: %r.\" % x)"
   ]
  },
  {
   "cell_type": "code",
   "execution_count": 6,
   "metadata": {},
   "outputs": [
    {
     "name": "stdout",
     "output_type": "stream",
     "text": [
      "I also said: 'Those who know binary and those who know don't.'.\n"
     ]
    }
   ],
   "source": [
    "#displaying variable y\n",
    "print (\"I also said: '%s'.\" % y)"
   ]
  },
  {
   "cell_type": "code",
   "execution_count": 11,
   "metadata": {},
   "outputs": [],
   "source": [
    "#more string data\n",
    "hilarious = False\n",
    "joke_evaluation = \"Isn,t that joke funny?! %r\""
   ]
  },
  {
   "cell_type": "code",
   "execution_count": 16,
   "metadata": {},
   "outputs": [
    {
     "name": "stdout",
     "output_type": "stream",
     "text": [
      "Isn,t that joke funny?! False\n"
     ]
    }
   ],
   "source": [
    "#printing out two strings-which are combined using %\n",
    "print (joke_evaluation % hilarious)"
   ]
  },
  {
   "cell_type": "code",
   "execution_count": 13,
   "metadata": {},
   "outputs": [],
   "source": [
    "#more strings\n",
    "w = \"This is the left side of ...\"\n",
    "e = \"A string with a right side.\""
   ]
  },
  {
   "cell_type": "code",
   "execution_count": 14,
   "metadata": {},
   "outputs": [
    {
     "name": "stdout",
     "output_type": "stream",
     "text": [
      "This is the left side of ...A string with a right side.\n"
     ]
    }
   ],
   "source": [
    "#combining two strings to make a longer string\n",
    "print (w + e) "
   ]
  },
  {
   "cell_type": "code",
   "execution_count": null,
   "metadata": {},
   "outputs": [],
   "source": []
  }
 ],
 "metadata": {
  "kernelspec": {
   "display_name": "Python 3",
   "language": "python",
   "name": "python3"
  },
  "language_info": {
   "codemirror_mode": {
    "name": "ipython",
    "version": 3
   },
   "file_extension": ".py",
   "mimetype": "text/x-python",
   "name": "python",
   "nbconvert_exporter": "python",
   "pygments_lexer": "ipython3",
   "version": "3.7.3"
  }
 },
 "nbformat": 4,
 "nbformat_minor": 2
}
